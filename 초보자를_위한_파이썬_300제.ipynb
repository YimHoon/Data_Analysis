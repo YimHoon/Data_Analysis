{
  "nbformat": 4,
  "nbformat_minor": 0,
  "metadata": {
    "colab": {
      "provenance": []
    },
    "kernelspec": {
      "name": "python3",
      "display_name": "Python 3"
    },
    "language_info": {
      "name": "python"
    }
  },
  "cells": [
    {
      "cell_type": "markdown",
      "source": [
        "# **1. 리스트** (051 ~ *070*)"
      ],
      "metadata": {
        "id": "2nRsHf7z-R4B"
      }
    },
    {
      "cell_type": "markdown",
      "source": [
        "## 051 리스트 생성\n",
        "- 2016년 11월 영화 예매 순위 기준 top3는 다음과 같습니다. 영화 제목을 movie_rank 이름의 리스트에 저장해보세요. (순위 정보는 저장하지 않습니다.)"
      ],
      "metadata": {
        "id": "o6_xZNVO-665"
      }
    },
    {
      "cell_type": "code",
      "source": [
        "movie_rank = [\"닥터 스트레인지\", \"스플릿\", \"럭키\"]"
      ],
      "metadata": {
        "id": "tY7JCYhq-6Wg"
      },
      "execution_count": null,
      "outputs": []
    },
    {
      "cell_type": "markdown",
      "source": [
        "## 052 리스트에 원소 추가\n",
        "- 051의 movie_rank 리스트에 \"배트맨\"을 추가하라."
      ],
      "metadata": {
        "id": "tPuOrYUZ_Ugy"
      }
    },
    {
      "cell_type": "code",
      "execution_count": 3,
      "metadata": {
        "colab": {
          "base_uri": "https://localhost:8080/"
        },
        "id": "sUKN9Qt3-LBf",
        "outputId": "608e3fdd-9ecc-408b-bd6e-740bc683cdc4"
      },
      "outputs": [
        {
          "output_type": "execute_result",
          "data": {
            "text/plain": [
              "['닥터 스트레인지', '스플릿', '럭키', '배트맨']"
            ]
          },
          "metadata": {},
          "execution_count": 3
        }
      ],
      "source": [
        "movie_rank = [\"닥터 스트레인지\", \"스플릿\", \"럭키\"]\n",
        "movie_rank.append(\"배트맨\")\n",
        "movie_rank"
      ]
    },
    {
      "cell_type": "markdown",
      "source": [
        "## 053\n",
        "- movie_rank 리스트에는 아래와 같이 네 개의 영화 제목이 바인딩되어 있다. \"슈퍼맨\"을 \"닥터 스트레인지\"와 \"스플릿\" 사이에 추가하라."
      ],
      "metadata": {
        "id": "FYbYd_TS_4ju"
      }
    },
    {
      "cell_type": "code",
      "source": [
        "movie_rank = ['닥터 스트레인지', '스플릿', '럭키', '배트맨']\n",
        "movie_rank.insert(1,\"슈퍼맨\")\n",
        "movie_rank"
      ],
      "metadata": {
        "colab": {
          "base_uri": "https://localhost:8080/"
        },
        "id": "ewt9Lni4_yIw",
        "outputId": "51f6518e-662d-4bac-a4db-a7c7dfbb9739"
      },
      "execution_count": 6,
      "outputs": [
        {
          "output_type": "execute_result",
          "data": {
            "text/plain": [
              "['닥터 스트레인지', '슈퍼맨', '스플릿', '럭키', '배트맨']"
            ]
          },
          "metadata": {},
          "execution_count": 6
        }
      ]
    },
    {
      "cell_type": "markdown",
      "source": [
        "## 054\n",
        "- movie_rank 리스트에서 '럭키'를 삭제하라.\n",
        "\n"
      ],
      "metadata": {
        "id": "EHHxE_FI_9hs"
      }
    },
    {
      "cell_type": "code",
      "source": [
        "movie_rank = ['닥터 스트레인지', '슈퍼맨', '스플릿', '럭키', '배트맨']\n",
        "movie_rank.remove('럭키') # del movie_rank[3]\n",
        "movie_rank"
      ],
      "metadata": {
        "colab": {
          "base_uri": "https://localhost:8080/"
        },
        "id": "TCh-oW_V_8nF",
        "outputId": "736a7d16-8dd1-4eea-8fcb-326cbdf84b5b"
      },
      "execution_count": 15,
      "outputs": [
        {
          "output_type": "execute_result",
          "data": {
            "text/plain": [
              "['닥터 스트레인지', '슈퍼맨', '스플릿']"
            ]
          },
          "metadata": {},
          "execution_count": 15
        }
      ]
    },
    {
      "cell_type": "markdown",
      "source": [
        "## 055\n",
        "- movie_rank 리스트에서 '스플릿' 과 '배트맨'을 를 삭제하라."
      ],
      "metadata": {
        "id": "pODo2w7RBEhd"
      }
    },
    {
      "cell_type": "code",
      "source": [
        "movie_rank = ['닥터 스트레인지', '슈퍼맨', '스플릿', '배트맨']\n",
        "del movie_rank[2:4]\n",
        "movie_rank"
      ],
      "metadata": {
        "colab": {
          "base_uri": "https://localhost:8080/"
        },
        "id": "t55NwuulAv16",
        "outputId": "817206ed-2a4e-4d58-ef7a-6172767a3c0c"
      },
      "execution_count": 17,
      "outputs": [
        {
          "output_type": "execute_result",
          "data": {
            "text/plain": [
              "['닥터 스트레인지', '슈퍼맨']"
            ]
          },
          "metadata": {},
          "execution_count": 17
        }
      ]
    },
    {
      "cell_type": "markdown",
      "source": [
        "## 056\n",
        "- lang1과 lang2 리스트가 있을 때 lang1과 lang2의 원소를 모두 갖고 있는 langs 리스트를 만들어라."
      ],
      "metadata": {
        "id": "5L-rWIB9BbEM"
      }
    },
    {
      "cell_type": "code",
      "source": [
        "lang1 = [\"C\", \"C++\", \"JAVA\"]\n",
        "lang2 = [\"Python\", \"Go\", \"C#\"]\n",
        "\n",
        "langs = lang1 + lang2\n",
        "langs"
      ],
      "metadata": {
        "colab": {
          "base_uri": "https://localhost:8080/"
        },
        "id": "pA09OdOlBQ7_",
        "outputId": "fce2d40f-387c-4967-c5c8-c1cb972b2c83"
      },
      "execution_count": 21,
      "outputs": [
        {
          "output_type": "execute_result",
          "data": {
            "text/plain": [
              "['C', 'C++', 'JAVA', 'Python', 'Go', 'C#']"
            ]
          },
          "metadata": {},
          "execution_count": 21
        }
      ]
    },
    {
      "cell_type": "markdown",
      "source": [
        "## 057\n",
        "- 다음 리스트에서 최댓값과 최솟값을 출력하라. (힌트: min(), max() 함수 사용)"
      ],
      "metadata": {
        "id": "BOlHNo8mBxvz"
      }
    },
    {
      "cell_type": "code",
      "source": [
        "nums = [1, 2, 3, 4, 5, 6, 7]\n",
        "\n",
        "max(nums)\n",
        "min(nums)"
      ],
      "metadata": {
        "colab": {
          "base_uri": "https://localhost:8080/"
        },
        "id": "6e1v_ln2B6to",
        "outputId": "f824a6ad-be7b-4660-fea9-2faa826ffab5"
      },
      "execution_count": 25,
      "outputs": [
        {
          "output_type": "execute_result",
          "data": {
            "text/plain": [
              "7"
            ]
          },
          "metadata": {},
          "execution_count": 25
        }
      ]
    },
    {
      "cell_type": "markdown",
      "source": [
        "\n",
        "## 058\n",
        "- 다음 리스트의 합을 출력하라."
      ],
      "metadata": {
        "id": "f0x78P1RB59p"
      }
    },
    {
      "cell_type": "code",
      "source": [
        "nums = [1, 2, 3, 4, 5]\n",
        "\n",
        "sum(nums)"
      ],
      "metadata": {
        "colab": {
          "base_uri": "https://localhost:8080/"
        },
        "id": "hZQtcsIUCW86",
        "outputId": "9490d01b-7462-4834-9fa7-78a94e1ad7e1"
      },
      "execution_count": 28,
      "outputs": [
        {
          "output_type": "stream",
          "name": "stdout",
          "text": [
            "리스트의 합: 15\n"
          ]
        }
      ]
    },
    {
      "cell_type": "markdown",
      "source": [
        "## 059\n",
        "- 다음 리스트에 저장된 데이터의 개수를 화면에 구하하라."
      ],
      "metadata": {
        "id": "ID02dFKPCWh2"
      }
    },
    {
      "cell_type": "code",
      "source": [
        "cook = [\"피자\", \"김밥\", \"만두\", \"양념치킨\", \"족발\", \"피자\", \"김치만두\", \"쫄면\", \"소시지\", \"라면\", \"팥빙수\", \"김치전\"]\n",
        "\n",
        "len(cook)"
      ],
      "metadata": {
        "colab": {
          "base_uri": "https://localhost:8080/"
        },
        "id": "JkgXTnPlC0JH",
        "outputId": "39a95795-2599-4724-ea28-54d76032de5d"
      },
      "execution_count": 29,
      "outputs": [
        {
          "output_type": "execute_result",
          "data": {
            "text/plain": [
              "12"
            ]
          },
          "metadata": {},
          "execution_count": 29
        }
      ]
    },
    {
      "cell_type": "markdown",
      "source": [
        "## 060\n",
        "- 다음 리스트의 평균을 출력하라."
      ],
      "metadata": {
        "id": "4331iKLHC6jO"
      }
    },
    {
      "cell_type": "code",
      "source": [
        "nums = [1, 2, 3, 4, 5]\n",
        "\n",
        "sum(nums) / len(nums)"
      ],
      "metadata": {
        "colab": {
          "base_uri": "https://localhost:8080/"
        },
        "id": "zczxgpm2C9rE",
        "outputId": "b3ec034d-a7cf-4181-df9c-dd9d0a92695f"
      },
      "execution_count": 30,
      "outputs": [
        {
          "output_type": "execute_result",
          "data": {
            "text/plain": [
              "3.0"
            ]
          },
          "metadata": {},
          "execution_count": 30
        }
      ]
    },
    {
      "cell_type": "markdown",
      "source": [
        "## 061\n",
        "- price 변수에는 날짜와 종가 정보가 저장돼 있다. 날짜 정보를 제외하고 가격 정보만을 출력하라. (힌트 : 슬라이싱)"
      ],
      "metadata": {
        "id": "gc11jaKnDG9G"
      }
    },
    {
      "cell_type": "code",
      "source": [
        "price = ['20180728', 100, 130, 140, 150, 160, 170]\n",
        "\n",
        "price[1:]"
      ],
      "metadata": {
        "colab": {
          "base_uri": "https://localhost:8080/"
        },
        "id": "eJo3F8YnDTje",
        "outputId": "55ebf83b-70c0-456e-b5c4-74b76c2fb4a7"
      },
      "execution_count": 31,
      "outputs": [
        {
          "output_type": "execute_result",
          "data": {
            "text/plain": [
              "[100, 130, 140, 150, 160, 170]"
            ]
          },
          "metadata": {},
          "execution_count": 31
        }
      ]
    },
    {
      "cell_type": "markdown",
      "source": [
        "## 062\n",
        "- 슬라이싱을 사용해서 홀수만 출력하라."
      ],
      "metadata": {
        "id": "D9D1CC4MDmnP"
      }
    },
    {
      "cell_type": "code",
      "source": [
        "nums = [1, 2, 3, 4, 5, 6, 7, 8, 9, 10]\n",
        "\n",
        "nums[::2]"
      ],
      "metadata": {
        "colab": {
          "base_uri": "https://localhost:8080/"
        },
        "id": "KU6XB2QVDpto",
        "outputId": "b0a5d46c-5cec-4868-b6a4-bedad4d9127a"
      },
      "execution_count": 32,
      "outputs": [
        {
          "output_type": "execute_result",
          "data": {
            "text/plain": [
              "[1, 3, 5, 7, 9]"
            ]
          },
          "metadata": {},
          "execution_count": 32
        }
      ]
    },
    {
      "cell_type": "markdown",
      "source": [
        "## 063\n",
        "- 슬라이싱을 사용해서 짝수만 출력하라."
      ],
      "metadata": {
        "id": "W7FtuoUyDzur"
      }
    },
    {
      "cell_type": "code",
      "source": [
        "nums = [1, 2, 3, 4, 5, 6, 7, 8, 9, 10]\n",
        "\n",
        "nums[1::2]"
      ],
      "metadata": {
        "colab": {
          "base_uri": "https://localhost:8080/"
        },
        "id": "pL2D8mgyD2l5",
        "outputId": "b7d81683-d6b2-4d4d-97b3-b901f076f3f4"
      },
      "execution_count": 33,
      "outputs": [
        {
          "output_type": "execute_result",
          "data": {
            "text/plain": [
              "[2, 4, 6, 8, 10]"
            ]
          },
          "metadata": {},
          "execution_count": 33
        }
      ]
    },
    {
      "cell_type": "markdown",
      "source": [
        "## 064\n",
        "- 슬라이싱을 사용해서 리스트의 숫자를 역 방향으로 출력하라."
      ],
      "metadata": {
        "id": "cglYLaIdEEtA"
      }
    },
    {
      "cell_type": "code",
      "source": [
        "nums = [1, 2, 3, 4, 5]\n",
        "\n",
        "nums[::-1]"
      ],
      "metadata": {
        "colab": {
          "base_uri": "https://localhost:8080/"
        },
        "id": "DfE7fca6EI1H",
        "outputId": "0e9c29f8-b2a3-4d54-eb6f-95936aa4ae96"
      },
      "execution_count": 34,
      "outputs": [
        {
          "output_type": "execute_result",
          "data": {
            "text/plain": [
              "[5, 4, 3, 2, 1]"
            ]
          },
          "metadata": {},
          "execution_count": 34
        }
      ]
    },
    {
      "cell_type": "markdown",
      "source": [
        "## 065\n",
        "- interest 리스트에는 아래의 데이터가 바인딩되어 있다. interest 리스트를 사용하여 아래와 같이 화면에 출력하라.\n"
      ],
      "metadata": {
        "id": "ouU04JG0EIh7"
      }
    },
    {
      "cell_type": "code",
      "source": [
        "출력 예시:\n",
        "삼성전자 Naver"
      ],
      "metadata": {
        "id": "ASoI3e3LEgfy"
      },
      "execution_count": null,
      "outputs": []
    },
    {
      "cell_type": "code",
      "source": [
        "interest = ['삼성전자', 'LG전자', 'Naver']\n",
        "\n",
        "print(interest[0], interest[2])"
      ],
      "metadata": {
        "colab": {
          "base_uri": "https://localhost:8080/"
        },
        "id": "Vhg86URPEVk1",
        "outputId": "ea808095-9688-4387-f81c-44e7ab22cc84"
      },
      "execution_count": 38,
      "outputs": [
        {
          "output_type": "stream",
          "name": "stdout",
          "text": [
            "삼성전자 Naver\n"
          ]
        }
      ]
    },
    {
      "cell_type": "markdown",
      "source": [
        "## 066 join 메서드\n",
        "- interest 리스트에는 아래의 데이터가 바인딩되어 있다. interest 리스트를 사용하여 아래와 같이 화면에 출력하라."
      ],
      "metadata": {
        "id": "v9Kv0o1PFOTr"
      }
    },
    {
      "cell_type": "code",
      "source": [
        "출력 예시:\n",
        "삼성전자 LG전자 Naver SK하이닉스 미래에셋대우"
      ],
      "metadata": {
        "id": "l0c4WKaWFXwB"
      },
      "execution_count": null,
      "outputs": []
    },
    {
      "cell_type": "code",
      "source": [
        "interest = ['삼성전자', 'LG전자', 'Naver', 'SK하이닉스', '미래에셋대우']\n",
        "\n",
        "print(\" \".join(interest))"
      ],
      "metadata": {
        "colab": {
          "base_uri": "https://localhost:8080/"
        },
        "id": "3itNRyX4FeTP",
        "outputId": "af1dbdd8-5977-4756-b1e8-7cbfdd2c8880"
      },
      "execution_count": 48,
      "outputs": [
        {
          "output_type": "stream",
          "name": "stdout",
          "text": [
            "삼성전자 LG전자 Naver SK하이닉스 미래에셋대우\n"
          ]
        }
      ]
    },
    {
      "cell_type": "markdown",
      "source": [
        "## 067 join 메서드\n",
        "- interest 리스트에는 아래의 데이터가 바인딩되어 있다. interest 리스트를 사용하여 아래와 같이 화면에 출력하라."
      ],
      "metadata": {
        "id": "RiPDMQuqFdZO"
      }
    },
    {
      "cell_type": "code",
      "source": [
        "출력 예시:\n",
        "삼성전자/LG전자/Naver/SK하이닉스/미래에셋대우"
      ],
      "metadata": {
        "id": "1kRRFifFJ2uB"
      },
      "execution_count": null,
      "outputs": []
    },
    {
      "cell_type": "code",
      "source": [
        "interest = ['삼성전자', 'LG전자', 'Naver', 'SK하이닉스', '미래에셋대우']\n",
        "\n",
        "print(\"/\".join(interest))"
      ],
      "metadata": {
        "colab": {
          "base_uri": "https://localhost:8080/"
        },
        "id": "7OQirEg9J1X3",
        "outputId": "f43d2ae8-2091-4fd4-a95d-726f4c7892ca"
      },
      "execution_count": 49,
      "outputs": [
        {
          "output_type": "stream",
          "name": "stdout",
          "text": [
            "삼성전자/LG전자/Naver/SK하이닉스/미래에셋대우\n"
          ]
        }
      ]
    },
    {
      "cell_type": "markdown",
      "source": [
        "## 068 join 메서드\n",
        "- interest 리스트에는 아래의 데이터가 바인딩되어 있다. join() 메서드를 사용해서 interest 리스트를 아래와 같이 화면에 출력하라."
      ],
      "metadata": {
        "id": "OGyRTy0mKfXZ"
      }
    },
    {
      "cell_type": "code",
      "source": [
        "출력 예시:\n",
        "삼성전자\n",
        "LG전자\n",
        "Naver\n",
        "SK하이닉스\n",
        "미래에셋대우"
      ],
      "metadata": {
        "id": "MjzRynmpKilF"
      },
      "execution_count": null,
      "outputs": []
    },
    {
      "cell_type": "code",
      "source": [
        "interest = ['삼성전자', 'LG전자', 'Naver', 'SK하이닉스', '미래에셋대우']\n",
        "\n",
        "print(\"\\n\".join(interest))"
      ],
      "metadata": {
        "colab": {
          "base_uri": "https://localhost:8080/"
        },
        "id": "ZSIcOS_rKjWu",
        "outputId": "e67cd47b-209b-46bc-8aae-18709aaa0611"
      },
      "execution_count": 56,
      "outputs": [
        {
          "output_type": "stream",
          "name": "stdout",
          "text": [
            "삼성전자\n",
            "LG전자\n",
            "Naver\n",
            "SK하이닉스\n",
            "미래에셋대우\n"
          ]
        }
      ]
    },
    {
      "cell_type": "markdown",
      "source": [
        "## 069 문자열 split 메서드\n",
        "- 회사 이름이 슬래시 ('/')로 구분되어 하나의 문자열로 저장되어 있다. 이를 interest 이름의 리스트로 분리 저장하라."
      ],
      "metadata": {
        "id": "fqZhlQxlLSvo"
      }
    },
    {
      "cell_type": "code",
      "source": [
        "string = \"삼성전자/LG전자/Naver\"\n",
        "\n",
        "string.split(\"/\")"
      ],
      "metadata": {
        "colab": {
          "base_uri": "https://localhost:8080/"
        },
        "id": "bE4AVM3xK7dQ",
        "outputId": "6c840d8b-5c6d-4ae4-db12-429b82b973ca"
      },
      "execution_count": 57,
      "outputs": [
        {
          "output_type": "execute_result",
          "data": {
            "text/plain": [
              "['삼성전자', 'LG전자', 'Naver']"
            ]
          },
          "metadata": {},
          "execution_count": 57
        }
      ]
    },
    {
      "cell_type": "markdown",
      "source": [
        "## 070 리스트 정렬\n",
        "- 리스트에 있는 값을 오름차순으로 정렬하세요.\n"
      ],
      "metadata": {
        "id": "3Roy3FwhL5Wq"
      }
    },
    {
      "cell_type": "code",
      "source": [
        "data = [2, 4, 3, 1, 5, 10, 9]\n",
        "\n",
        "l = sorted(data)\n",
        "print(l)"
      ],
      "metadata": {
        "colab": {
          "base_uri": "https://localhost:8080/"
        },
        "id": "hGkfjhQXL9eP",
        "outputId": "bb3c1880-b145-4b82-fbee-1dabb6c10306"
      },
      "execution_count": 64,
      "outputs": [
        {
          "output_type": "stream",
          "name": "stdout",
          "text": [
            "[1, 2, 3, 4, 5, 9, 10]\n"
          ]
        }
      ]
    },
    {
      "cell_type": "markdown",
      "source": [
        "# **2. 딕셔너리** (081 ~ 100)"
      ],
      "metadata": {
        "id": "0JXXGuUgMe9I"
      }
    },
    {
      "cell_type": "markdown",
      "source": [
        "## 081 별 표현식\n",
        "- 다음과 같이 10개의 값이 저장된 scores 리스트가 있을 때, start expression을 사용하여 좌측 8개의 값을 valid_score 변수에 바인딩하여라."
      ],
      "metadata": {
        "id": "DFA6fDDCMrZI"
      }
    },
    {
      "cell_type": "code",
      "source": [
        "scores = [8.8, 8.9, 8.7, 9.2, 9.3, 9.7, 9.9, 9.5, 7.8, 9.4]\n",
        "\n",
        "*valid_score, _, _= scores\n",
        "valid_score"
      ],
      "metadata": {
        "colab": {
          "base_uri": "https://localhost:8080/"
        },
        "id": "WJoyXr4TPY-d",
        "outputId": "33055559-2e68-40f8-b714-89dd811001c5"
      },
      "execution_count": 67,
      "outputs": [
        {
          "output_type": "execute_result",
          "data": {
            "text/plain": [
              "[8.8, 8.9, 8.7, 9.2, 9.3, 9.7, 9.9, 9.5]"
            ]
          },
          "metadata": {},
          "execution_count": 67
        }
      ]
    },
    {
      "cell_type": "markdown",
      "source": [
        "## 082\n",
        "- 다음과 같이 10개의 값이 저장된 scores 리스트가 있을 때, start expression을 사용하여 우측 8개의 값을 valid_score 변수에 바인딩하여라. "
      ],
      "metadata": {
        "id": "U5i3B5OhP8WZ"
      }
    },
    {
      "cell_type": "code",
      "source": [
        "scores = [8.8, 8.9, 8.7, 9.2, 9.3, 9.7, 9.9, 9.5, 7.8, 9.4]\n",
        "\n",
        "_, _, *valid_score = scores\n",
        "valid_score"
      ],
      "metadata": {
        "colab": {
          "base_uri": "https://localhost:8080/"
        },
        "id": "FwbKh9C8QotE",
        "outputId": "e2f4d9c5-02bb-4aff-e2e3-9ea44cce9bef"
      },
      "execution_count": 69,
      "outputs": [
        {
          "output_type": "execute_result",
          "data": {
            "text/plain": [
              "[8.7, 9.2, 9.3, 9.7, 9.9, 9.5, 7.8, 9.4]"
            ]
          },
          "metadata": {},
          "execution_count": 69
        }
      ]
    },
    {
      "cell_type": "markdown",
      "source": [
        "## 083\n",
        "- 다음과 같이 10개의 값이 저장된 scores 리스트가 있을 때, start expression을 사용하여 가운데 있는 8개의 값을 valid_score 변수에 바인딩하여라."
      ],
      "metadata": {
        "id": "fD9N-2a2QobJ"
      }
    },
    {
      "cell_type": "code",
      "source": [
        "scores = [8.8, 8.9, 8.7, 9.2, 9.3, 9.7, 9.9, 9.5, 7.8, 9.4]\n",
        "\n",
        "_, *valid_score, _ = scores\n",
        "valid_score"
      ],
      "metadata": {
        "colab": {
          "base_uri": "https://localhost:8080/"
        },
        "id": "zAUWNSy9QvJV",
        "outputId": "ba8d3f68-408a-4bb7-d1ca-18a370f72134"
      },
      "execution_count": 70,
      "outputs": [
        {
          "output_type": "execute_result",
          "data": {
            "text/plain": [
              "[8.9, 8.7, 9.2, 9.3, 9.7, 9.9, 9.5, 7.8]"
            ]
          },
          "metadata": {},
          "execution_count": 70
        }
      ]
    },
    {
      "cell_type": "markdown",
      "source": [
        "## 084 비어있는 딕셔너리\n",
        "- temp 이름의 비어있는 딕셔너리를 만들라."
      ],
      "metadata": {
        "id": "5oo2LiqrRNaO"
      }
    },
    {
      "cell_type": "code",
      "source": [
        "temp = {}"
      ],
      "metadata": {
        "id": "RzfqRZmJRE1T"
      },
      "execution_count": 71,
      "outputs": []
    },
    {
      "cell_type": "markdown",
      "source": [
        "## 085\n",
        "- 다음 아이스크림 이름과 희망 가격을 딕셔너리로 구성하라.\n",
        "![image.png](data:image/png;base64,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)"
      ],
      "metadata": {
        "id": "fto70nheRYDv"
      }
    },
    {
      "cell_type": "code",
      "source": [
        "icecream = {'메로나' : 1000,\n",
        "            '폴라포' : 1200,\n",
        "            '빵빠레' : 1800}\n",
        "icecream"
      ],
      "metadata": {
        "colab": {
          "base_uri": "https://localhost:8080/"
        },
        "id": "bU-4Of2sRXwk",
        "outputId": "98380c81-1440-4afc-94c2-5d603eb6a47c"
      },
      "execution_count": 73,
      "outputs": [
        {
          "output_type": "execute_result",
          "data": {
            "text/plain": [
              "{'메로나': 1000, '폴라포': 1200, '빵빠레': 1800}"
            ]
          },
          "metadata": {},
          "execution_count": 73
        }
      ]
    },
    {
      "cell_type": "markdown",
      "source": [
        "## 086\n",
        "- 085번의 딕셔너리에 아래 아이스크림 가격정보를 추가하라.\n",
        "![image.png](data:image/png;base64,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)"
      ],
      "metadata": {
        "id": "D_2WLA2LSBSW"
      }
    },
    {
      "cell_type": "code",
      "source": [
        "icecream = {'메로나': 1000, '폴라포': 1200, '빵빠레': 1800}\n",
        "\n",
        "icecream['죠스바'] = 1200\n",
        "icecream['월드콘'] = 1500\n",
        "icecream"
      ],
      "metadata": {
        "colab": {
          "base_uri": "https://localhost:8080/"
        },
        "id": "JoDEN5a-SNSC",
        "outputId": "32af849a-dc23-4f67-9239-70677edd5521"
      },
      "execution_count": 74,
      "outputs": [
        {
          "output_type": "execute_result",
          "data": {
            "text/plain": [
              "{'메로나': 1000, '폴라포': 1200, '빵빠레': 1800, '죠스바': 1200, '월드콘': 1500}"
            ]
          },
          "metadata": {},
          "execution_count": 74
        }
      ]
    },
    {
      "cell_type": "markdown",
      "source": [
        "## 087\n",
        "- 다음 딕셔너리를 사용하여 메로나 가격을 출력하라."
      ],
      "metadata": {
        "id": "tTBPoS9HSp6t"
      }
    },
    {
      "cell_type": "code",
      "source": [
        "실행 예:\n",
        "메로나 가격: 1000"
      ],
      "metadata": {
        "id": "zfGd3vGoS1Pz"
      },
      "execution_count": null,
      "outputs": []
    },
    {
      "cell_type": "code",
      "source": [
        "icecream = {'메로나': 1000,\n",
        "            '폴라포': 1200,\n",
        "            '빵빠레': 1800,\n",
        "            '죠스바': 1200,\n",
        "            '월드콘': 1500}\n",
        "\n",
        "print('메로나 가격: {}'.format(icecream['메로나']))"
      ],
      "metadata": {
        "colab": {
          "base_uri": "https://localhost:8080/"
        },
        "id": "oPCZ40PNSWFy",
        "outputId": "c59410c7-3c18-4a00-8a4d-90fbb78fabe5"
      },
      "execution_count": 86,
      "outputs": [
        {
          "output_type": "stream",
          "name": "stdout",
          "text": [
            "메로나 가격: 1000\n"
          ]
        }
      ]
    },
    {
      "cell_type": "markdown",
      "source": [
        "## 088\n",
        "- 다음 딕셔너리에서 메로나의 가격을 1300으로 수정하라."
      ],
      "metadata": {
        "id": "uOPuLd5QUjBG"
      }
    },
    {
      "cell_type": "code",
      "source": [
        "icecream = {'메로나': 1000,\n",
        "            '폴라포': 1200,\n",
        "            '빵빠레': 1800,\n",
        "            '죠스바': 1200,\n",
        "            '월드콘': 1500}\n",
        "\n",
        "icecream['메로나'] = 1300\n",
        "icecream"
      ],
      "metadata": {
        "colab": {
          "base_uri": "https://localhost:8080/"
        },
        "id": "tEQyLpoRUnsV",
        "outputId": "48df9171-6dd4-410b-b722-aa2a14f07e15"
      },
      "execution_count": 88,
      "outputs": [
        {
          "output_type": "execute_result",
          "data": {
            "text/plain": [
              "{'메로나': 1300, '폴라포': 1200, '빵빠레': 1800, '죠스바': 1200, '월드콘': 1500}"
            ]
          },
          "metadata": {},
          "execution_count": 88
        }
      ]
    },
    {
      "cell_type": "markdown",
      "source": [
        "## 089\n",
        "- 다음 딕셔너리에서 메로나를 삭제하라."
      ],
      "metadata": {
        "id": "pswTP3XsUqvN"
      }
    },
    {
      "cell_type": "code",
      "source": [
        "icecream = {'메로나': 1000,\n",
        "            '폴라포': 1200,\n",
        "            '빵빠레': 1800,\n",
        "            '죠스바': 1200,\n",
        "            '월드콘': 1500}\n",
        "\n",
        "del icecream['메로나']\n",
        "icecream"
      ],
      "metadata": {
        "colab": {
          "base_uri": "https://localhost:8080/"
        },
        "id": "0v5briswUqQR",
        "outputId": "151215f5-e996-462c-e29c-4453b09109da"
      },
      "execution_count": 90,
      "outputs": [
        {
          "output_type": "execute_result",
          "data": {
            "text/plain": [
              "{'폴라포': 1200, '빵빠레': 1800, '죠스바': 1200, '월드콘': 1500}"
            ]
          },
          "metadata": {},
          "execution_count": 90
        }
      ]
    },
    {
      "cell_type": "markdown",
      "source": [
        "## 090\n",
        "- 다음 코드에서 에러가 발생한 원인을 설명하라."
      ],
      "metadata": {
        "id": "-FgBh1g2VDL1"
      }
    },
    {
      "cell_type": "code",
      "source": [
        "icecream = {'폴라포': 1200, '빵빠레': 1800, '월드콘': 1500, '메로나': 1000}\n",
        "icecream['누가바']"
      ],
      "metadata": {
        "colab": {
          "base_uri": "https://localhost:8080/",
          "height": 189
        },
        "id": "y5a7e2i3VC6E",
        "outputId": "3f764831-deb8-48ff-fb7d-de595081f10e"
      },
      "execution_count": 91,
      "outputs": [
        {
          "output_type": "error",
          "ename": "KeyError",
          "evalue": "ignored",
          "traceback": [
            "\u001b[0;31m---------------------------------------------------------------------------\u001b[0m",
            "\u001b[0;31mKeyError\u001b[0m                                  Traceback (most recent call last)",
            "\u001b[0;32m<ipython-input-91-f3bb398f8646>\u001b[0m in \u001b[0;36m<cell line: 2>\u001b[0;34m()\u001b[0m\n\u001b[1;32m      1\u001b[0m \u001b[0micecream\u001b[0m \u001b[0;34m=\u001b[0m \u001b[0;34m{\u001b[0m\u001b[0;34m'폴라포'\u001b[0m\u001b[0;34m:\u001b[0m \u001b[0;36m1200\u001b[0m\u001b[0;34m,\u001b[0m \u001b[0;34m'빵빠레'\u001b[0m\u001b[0;34m:\u001b[0m \u001b[0;36m1800\u001b[0m\u001b[0;34m,\u001b[0m \u001b[0;34m'월드콘'\u001b[0m\u001b[0;34m:\u001b[0m \u001b[0;36m1500\u001b[0m\u001b[0;34m,\u001b[0m \u001b[0;34m'메로나'\u001b[0m\u001b[0;34m:\u001b[0m \u001b[0;36m1000\u001b[0m\u001b[0;34m}\u001b[0m\u001b[0;34m\u001b[0m\u001b[0;34m\u001b[0m\u001b[0m\n\u001b[0;32m----> 2\u001b[0;31m \u001b[0micecream\u001b[0m\u001b[0;34m[\u001b[0m\u001b[0;34m'누가바'\u001b[0m\u001b[0;34m]\u001b[0m\u001b[0;34m\u001b[0m\u001b[0;34m\u001b[0m\u001b[0m\n\u001b[0m",
            "\u001b[0;31mKeyError\u001b[0m: '누가바'"
          ]
        }
      ]
    },
    {
      "cell_type": "code",
      "source": [
        "# 없는 키값임"
      ],
      "metadata": {
        "id": "amkPfxKEVWrL"
      },
      "execution_count": null,
      "outputs": []
    },
    {
      "cell_type": "markdown",
      "source": [
        "## 091 딕셔너리 생성\n",
        "- 아래의 표에서, 아이스크림 이름을 키값으로, (가격, 재고) 리스트를 딕셔너리의 값으로 저장하라. 딕셔너리의 이름은 inventory로 한다.\n",
        "\n",
        "![image.png](data:image/png;base64,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)"
      ],
      "metadata": {
        "id": "Z2u9-tpZViAG"
      }
    },
    {
      "cell_type": "code",
      "source": [
        "inventory = {'메로나': [300, 20],\n",
        "             '비비빅': [400, 3],\n",
        "             '죠스바': [250, 100]}\n",
        "\n",
        "inventory"
      ],
      "metadata": {
        "colab": {
          "base_uri": "https://localhost:8080/"
        },
        "id": "klRo15fVVrk7",
        "outputId": "ed6e1585-7fbd-446d-d2f7-ed818b7bad70"
      },
      "execution_count": 92,
      "outputs": [
        {
          "output_type": "execute_result",
          "data": {
            "text/plain": [
              "{'메로나': [300, 20], '비비빅': [400, 3], '죠스바': [250, 100]}"
            ]
          },
          "metadata": {},
          "execution_count": 92
        }
      ]
    },
    {
      "cell_type": "markdown",
      "source": [
        "## 092 딕셔너리 인덱싱\n",
        "- inventory 딕셔너리에서 메로나의 가격을 화면에 출력하라. "
      ],
      "metadata": {
        "id": "6fMA34EXWBf-"
      }
    },
    {
      "cell_type": "code",
      "source": [
        "inventory = {'메로나': [300, 20],\n",
        "             '비비빅': [400, 3],\n",
        "             '죠스바': [250, 100]}\n",
        "\n",
        "inventory['메로나'][0]"
      ],
      "metadata": {
        "colab": {
          "base_uri": "https://localhost:8080/"
        },
        "id": "m0MxiScVWFRG",
        "outputId": "7e04b9d1-ac10-4ab6-b601-c19cdb7b1bb9"
      },
      "execution_count": 93,
      "outputs": [
        {
          "output_type": "execute_result",
          "data": {
            "text/plain": [
              "300"
            ]
          },
          "metadata": {},
          "execution_count": 93
        }
      ]
    },
    {
      "cell_type": "markdown",
      "source": [
        "## 093 딕셔너리 인덱싱\n",
        "- inventory 딕셔너리에서 메로나의 재고를 화면에 출력하라."
      ],
      "metadata": {
        "id": "g5WVhK_cWY-6"
      }
    },
    {
      "cell_type": "code",
      "source": [
        "inventory = {'메로나': [300, 20],\n",
        "             '비비빅': [400, 3],\n",
        "             '죠스바': [250, 100]}\n",
        "\n",
        "inventory['메로나'][1]"
      ],
      "metadata": {
        "colab": {
          "base_uri": "https://localhost:8080/"
        },
        "id": "Nk8OkptFWZrY",
        "outputId": "f3267b81-7888-45f6-985f-9539f2ce18be"
      },
      "execution_count": 94,
      "outputs": [
        {
          "output_type": "execute_result",
          "data": {
            "text/plain": [
              "20"
            ]
          },
          "metadata": {},
          "execution_count": 94
        }
      ]
    },
    {
      "cell_type": "markdown",
      "source": [
        "## 094 딕셔너리 추가\n",
        "- inventory 딕셔너리에 아래 데이터를 추가하라.\n",
        "\n",
        "![image.png](data:image/png;base64,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)"
      ],
      "metadata": {
        "id": "9OvBooIUWnnH"
      }
    },
    {
      "cell_type": "code",
      "source": [
        "inventory = {'메로나': [300, 20],\n",
        "             '비비빅': [400, 3],\n",
        "             '죠스바': [250, 100]}\n",
        "\n",
        "inventory['월드콘'] = [500, 7]\n",
        "inventory"
      ],
      "metadata": {
        "colab": {
          "base_uri": "https://localhost:8080/"
        },
        "id": "a7LteFlzWj8q",
        "outputId": "6c196598-1092-4a10-fa52-490292f4e3c6"
      },
      "execution_count": 96,
      "outputs": [
        {
          "output_type": "execute_result",
          "data": {
            "text/plain": [
              "{'메로나': [300, 20], '비비빅': [400, 3], '죠스바': [250, 100], '월드콘': [500, 7]}"
            ]
          },
          "metadata": {},
          "execution_count": 96
        }
      ]
    },
    {
      "cell_type": "markdown",
      "source": [
        "## 095 딕셔너리 keys() 메서드\n",
        "- 다음의 딕셔너리로부터 key 값으로만 구성된 리스트를 생성하라."
      ],
      "metadata": {
        "id": "stj9ItD9XA0Y"
      }
    },
    {
      "cell_type": "code",
      "source": [
        "icecream = {'탱크보이': 1200,\n",
        "            '폴라포': 1200,\n",
        "            '빵빠레': 1800,\n",
        "            '월드콘': 1500,\n",
        "            '메로나': 1000}\n",
        "\n",
        "list(icecream.keys())"
      ],
      "metadata": {
        "colab": {
          "base_uri": "https://localhost:8080/"
        },
        "id": "w-MX3JvCXEqe",
        "outputId": "0a796889-b381-43c9-cc0b-61c26f39d82a"
      },
      "execution_count": 98,
      "outputs": [
        {
          "output_type": "execute_result",
          "data": {
            "text/plain": [
              "['탱크보이', '폴라포', '빵빠레', '월드콘', '메로나']"
            ]
          },
          "metadata": {},
          "execution_count": 98
        }
      ]
    },
    {
      "cell_type": "markdown",
      "source": [
        "## 096 딕셔너리 values() 메서드\n",
        "- 다음의 딕셔너리에서 values 값으로만 구성된 리스트를 생성하라."
      ],
      "metadata": {
        "id": "Gm2God0CXKAC"
      }
    },
    {
      "cell_type": "code",
      "source": [
        "icecream = {'탱크보이': 1200,\n",
        "            '폴라포': 1200,\n",
        "            '빵빠레': 1800,\n",
        "            '월드콘': 1500,\n",
        "            '메로나': 1000}\n",
        "\n",
        "list(icecream.values())"
      ],
      "metadata": {
        "colab": {
          "base_uri": "https://localhost:8080/"
        },
        "id": "q3wAwUlGXJno",
        "outputId": "5bef374b-954a-413f-f466-0a4b7f0f3cbc"
      },
      "execution_count": 99,
      "outputs": [
        {
          "output_type": "execute_result",
          "data": {
            "text/plain": [
              "[1200, 1200, 1800, 1500, 1000]"
            ]
          },
          "metadata": {},
          "execution_count": 99
        }
      ]
    },
    {
      "cell_type": "markdown",
      "source": [
        "## 097 딕셔너리 values() 메서드\n",
        "- icecream 딕셔너리에서 아이스크림 판매 금액의 총합을 출력하라. \n"
      ],
      "metadata": {
        "id": "Xt-hXwQwXg_d"
      }
    },
    {
      "cell_type": "code",
      "source": [
        "icecream = {'탱크보이': 1200,\n",
        "            '폴라포': 1200,\n",
        "            '빵빠레': 1800,\n",
        "            '월드콘': 1500,\n",
        "            '메로나': 1000}\n",
        "\n",
        "sum(icecream.values())"
      ],
      "metadata": {
        "colab": {
          "base_uri": "https://localhost:8080/"
        },
        "id": "iZDU4GYxXl8Z",
        "outputId": "1f32e84e-82c6-4d4f-df6d-51cc6017d89c"
      },
      "execution_count": 101,
      "outputs": [
        {
          "output_type": "execute_result",
          "data": {
            "text/plain": [
              "6700"
            ]
          },
          "metadata": {},
          "execution_count": 101
        }
      ]
    },
    {
      "cell_type": "markdown",
      "source": [
        "## 098 딕셔너리 update 메서드\n",
        "- 아래의 new_product 딕셔너리를 다음 icecream 딕셔너리에 추가하라. "
      ],
      "metadata": {
        "id": "yjssCPOHaArs"
      }
    },
    {
      "cell_type": "code",
      "source": [
        "icecream = {'탱크보이': 1200,\n",
        "            '폴라포': 1200,\n",
        "            '빵빠레': 1800,\n",
        "            '월드콘': 1500,\n",
        "            '메로나': 1000}\n",
        "\n",
        "new_product = {'팥빙수':2700, '아맛나':1000}\n",
        "\n",
        "icecream.update(new_product)\n",
        "icecream"
      ],
      "metadata": {
        "colab": {
          "base_uri": "https://localhost:8080/"
        },
        "id": "D_DwajN_aHQM",
        "outputId": "4f353902-2966-4ec8-f142-6097616bea00"
      },
      "execution_count": 103,
      "outputs": [
        {
          "output_type": "execute_result",
          "data": {
            "text/plain": [
              "{'탱크보이': 1200,\n",
              " '폴라포': 1200,\n",
              " '빵빠레': 1800,\n",
              " '월드콘': 1500,\n",
              " '메로나': 1000,\n",
              " '팥빙수': 2700,\n",
              " '아맛나': 1000}"
            ]
          },
          "metadata": {},
          "execution_count": 103
        }
      ]
    },
    {
      "cell_type": "markdown",
      "source": [
        "## 099 zip과 dict\n",
        "- 아래 두 개의 튜플을 하나의 딕셔너리로 변환하라. keys를 키로, vals를 값으로 result 이름의 딕셔너리로 저장한다."
      ],
      "metadata": {
        "id": "AOBd_GJianOt"
      }
    },
    {
      "cell_type": "code",
      "source": [
        "keys = (\"apple\", \"pear\", \"peach\")\n",
        "vals = (300, 250, 400)\n",
        "\n",
        "result = zip(keys, vals)\n",
        "dict(result)"
      ],
      "metadata": {
        "colab": {
          "base_uri": "https://localhost:8080/"
        },
        "id": "S0a3tMz5as_a",
        "outputId": "94aed8b9-2331-4171-ee09-57ee68c57cce"
      },
      "execution_count": 104,
      "outputs": [
        {
          "output_type": "execute_result",
          "data": {
            "text/plain": [
              "{'apple': 300, 'pear': 250, 'peach': 400}"
            ]
          },
          "metadata": {},
          "execution_count": 104
        }
      ]
    },
    {
      "cell_type": "markdown",
      "source": [
        "## 100 zip과 dict\n",
        "- date와 close_price 두 개의 리스트를 close_table 이름의 딕셔너리로 생성하라."
      ],
      "metadata": {
        "id": "3QUdqB3RbWin"
      }
    },
    {
      "cell_type": "code",
      "source": [
        "date = ['09/05', '09/06', '09/07', '09/08', '09/09']\n",
        "close_price = [10500, 10300, 10100, 10800, 11000]\n",
        "\n",
        "close_table = zip(date, close_price)\n",
        "dict(close_table)"
      ],
      "metadata": {
        "colab": {
          "base_uri": "https://localhost:8080/"
        },
        "id": "Mc55oS9CbWQ3",
        "outputId": "a4e5e3da-e83d-4035-cdf4-5e1d8ec032db"
      },
      "execution_count": 105,
      "outputs": [
        {
          "output_type": "execute_result",
          "data": {
            "text/plain": [
              "{'09/05': 10500,\n",
              " '09/06': 10300,\n",
              " '09/07': 10100,\n",
              " '09/08': 10800,\n",
              " '09/09': 11000}"
            ]
          },
          "metadata": {},
          "execution_count": 105
        }
      ]
    },
    {
      "cell_type": "markdown",
      "source": [
        "# **3. 반복문** (131 ~ 240)"
      ],
      "metadata": {
        "id": "SSmwsIyQcoAD"
      }
    },
    {
      "cell_type": "markdown",
      "source": [
        "## 131\n",
        "- for문의 실행결과를 예측하라."
      ],
      "metadata": {
        "id": "Q43T1_Xncq-9"
      }
    },
    {
      "cell_type": "code",
      "source": [
        "과일 = [\"사과\", \"귤\", \"수박\"]\n",
        "for 변수 in 과일:\n",
        "    print(변수)"
      ],
      "metadata": {
        "colab": {
          "base_uri": "https://localhost:8080/"
        },
        "id": "8jv46_26c3Gg",
        "outputId": "1a38f0e8-e43a-4b2d-b8d8-c80ccdc51a69"
      },
      "execution_count": 107,
      "outputs": [
        {
          "output_type": "stream",
          "name": "stdout",
          "text": [
            "사과\n",
            "귤\n",
            "수박\n"
          ]
        }
      ]
    },
    {
      "cell_type": "markdown",
      "source": [
        "## 132\n",
        "- for문의 실행결과를 예측하라."
      ],
      "metadata": {
        "id": "ZkYfrMikc5ti"
      }
    },
    {
      "cell_type": "code",
      "source": [
        "과일 = [\"사과\", \"귤\", \"수박\"]\n",
        "for 변수 in 과일:\n",
        "    print(\"#####\")"
      ],
      "metadata": {
        "colab": {
          "base_uri": "https://localhost:8080/"
        },
        "id": "BZqGqycUc5Pb",
        "outputId": "020a65ac-ee38-4a15-efba-cc9b9de35073"
      },
      "execution_count": 109,
      "outputs": [
        {
          "output_type": "stream",
          "name": "stdout",
          "text": [
            "#####\n",
            "#####\n",
            "#####\n"
          ]
        }
      ]
    },
    {
      "cell_type": "markdown",
      "source": [
        "## 133\n",
        "- 다음 for 문과 동일한 기능을 수행하는 코드를 작성하세요."
      ],
      "metadata": {
        "id": "RhaZTYDydZQr"
      }
    },
    {
      "cell_type": "code",
      "source": [
        "for 변수 in [\"A\", \"B\", \"C\"]:\n",
        "    print(변수)"
      ],
      "metadata": {
        "colab": {
          "base_uri": "https://localhost:8080/"
        },
        "id": "5l28gt7GdcKe",
        "outputId": "a293d10e-78a6-441c-c803-a7fff6a970e7"
      },
      "execution_count": 111,
      "outputs": [
        {
          "output_type": "stream",
          "name": "stdout",
          "text": [
            "A\n",
            "B\n",
            "C\n"
          ]
        }
      ]
    },
    {
      "cell_type": "code",
      "source": [
        "print(\"A\")\n",
        "print(\"B\")\n",
        "print(\"C\")"
      ],
      "metadata": {
        "id": "72fofNoUde4f"
      },
      "execution_count": null,
      "outputs": []
    },
    {
      "cell_type": "markdown",
      "source": [
        "## 134\n",
        "- for문을 풀어서 동일한 동작을하는 코드를 작성하라."
      ],
      "metadata": {
        "id": "ocfyHVcnfuXm"
      }
    },
    {
      "cell_type": "code",
      "source": [
        "for 변수 in [\"A\", \"B\", \"C\"]:\n",
        "  print(\"출력:\", 변수)"
      ],
      "metadata": {
        "id": "vYRt8CW-fzRX"
      },
      "execution_count": null,
      "outputs": []
    },
    {
      "cell_type": "code",
      "source": [
        "print(\"출력:\", \"A\")\n",
        "print(\"출력:\", \"B\")\n",
        "print(\"출력:\", \"C\")"
      ],
      "metadata": {
        "id": "4IjhA5fif3Ho"
      },
      "execution_count": null,
      "outputs": []
    },
    {
      "cell_type": "markdown",
      "source": [
        "## 135\n",
        "- for문을 풀어서 동일한 동작을 하는 코드를 작성하라."
      ],
      "metadata": {
        "id": "8TmRhvnDf3cN"
      }
    },
    {
      "cell_type": "code",
      "source": [
        "for 변수 in [\"A\", \"B\", \"C\"]:\n",
        "  b = 변수.lower()\n",
        "  print(\"변환:\", b)"
      ],
      "metadata": {
        "id": "DoEs-oOsf75f"
      },
      "execution_count": null,
      "outputs": []
    },
    {
      "cell_type": "code",
      "source": [
        "변수 = \"A\"\n",
        "b = 변수.lower()\n",
        "print(\"변환:\", b)\n",
        "변수 = \"B\"\n",
        "b = 변수.lower()\n",
        "print(\"변환:\", b)\n",
        "변수 = \"C\"\n",
        "b = 변수.lower()\n",
        "print(\"변환:\", b)"
      ],
      "metadata": {
        "id": "iOu2v048f-La"
      },
      "execution_count": null,
      "outputs": []
    },
    {
      "cell_type": "markdown",
      "source": [
        "## 136\n",
        "- 다음 코드를 for문으로 작성하라."
      ],
      "metadata": {
        "id": "e-pBvIhwgGk7"
      }
    },
    {
      "cell_type": "code",
      "source": [
        "변수 = 10\n",
        "print(변수)\n",
        "변수 = 20\n",
        "print(변수)\n",
        "변수 = 30\n",
        "print(변수)"
      ],
      "metadata": {
        "id": "Rzju758XgLIY"
      },
      "execution_count": null,
      "outputs": []
    },
    {
      "cell_type": "code",
      "source": [
        "for 변수 in [10, 20, 30]:\n",
        "    print(변수)"
      ],
      "metadata": {
        "colab": {
          "base_uri": "https://localhost:8080/"
        },
        "id": "5x6sxKHxgLff",
        "outputId": "c9c3c09c-c695-4a86-f125-249beafe8e54"
      },
      "execution_count": 112,
      "outputs": [
        {
          "output_type": "stream",
          "name": "stdout",
          "text": [
            "10\n",
            "20\n",
            "30\n"
          ]
        }
      ]
    },
    {
      "cell_type": "markdown",
      "source": [
        "## 137\n",
        "- 다음 코드를 for문으로 작성하라."
      ],
      "metadata": {
        "id": "XLLXcaFEgikQ"
      }
    },
    {
      "cell_type": "code",
      "source": [
        "print(10)\n",
        "print(20)\n",
        "print(30)"
      ],
      "metadata": {
        "id": "eq87OB79gyOJ"
      },
      "execution_count": null,
      "outputs": []
    },
    {
      "cell_type": "code",
      "source": [
        "for i in [10, 20, 30]:\n",
        "    print(i)"
      ],
      "metadata": {
        "colab": {
          "base_uri": "https://localhost:8080/"
        },
        "id": "JV_kcQ1pgy9X",
        "outputId": "dea9ee90-0c37-46b5-ac78-b878eec92358"
      },
      "execution_count": 113,
      "outputs": [
        {
          "output_type": "stream",
          "name": "stdout",
          "text": [
            "10\n",
            "20\n",
            "30\n"
          ]
        }
      ]
    },
    {
      "cell_type": "markdown",
      "source": [
        "## 138\n",
        "- 다음 코드를 for문으로 작성하라."
      ],
      "metadata": {
        "id": "dj30rkDugyHZ"
      }
    },
    {
      "cell_type": "code",
      "source": [
        "print(10)\n",
        "print(\"-------\")\n",
        "print(20)\n",
        "print(\"-------\")\n",
        "print(30)\n",
        "print(\"-------\")"
      ],
      "metadata": {
        "id": "Ht9IFvClg-cI"
      },
      "execution_count": null,
      "outputs": []
    },
    {
      "cell_type": "code",
      "source": [
        "for i in [10, 20, 30]:\n",
        "    print(i)\n",
        "    print(\"--------\")"
      ],
      "metadata": {
        "colab": {
          "base_uri": "https://localhost:8080/"
        },
        "id": "9TDU8gidhFBh",
        "outputId": "b919c62f-806a-4f32-ca7b-a542ba1a61ca"
      },
      "execution_count": 114,
      "outputs": [
        {
          "output_type": "stream",
          "name": "stdout",
          "text": [
            "10\n",
            "--------\n",
            "20\n",
            "--------\n",
            "30\n",
            "--------\n"
          ]
        }
      ]
    },
    {
      "cell_type": "markdown",
      "source": [
        "## 139\n",
        "- 다음 코드를 for문으로 작성하라."
      ],
      "metadata": {
        "id": "q3h3HX1hgx3c"
      }
    },
    {
      "cell_type": "code",
      "source": [
        "print(\"++++\")\n",
        "print(10)\n",
        "print(20)\n",
        "print(30)"
      ],
      "metadata": {
        "id": "nuznRjZYiZG_"
      },
      "execution_count": null,
      "outputs": []
    },
    {
      "cell_type": "code",
      "source": [
        "print(\"++++\")\n",
        "\n",
        "for i in [10, 20, 30]:\n",
        "    print(i)"
      ],
      "metadata": {
        "colab": {
          "base_uri": "https://localhost:8080/"
        },
        "id": "Ma3-bY5cibEW",
        "outputId": "7a94b914-75e5-4001-de4a-471f3814b8e4"
      },
      "execution_count": 115,
      "outputs": [
        {
          "output_type": "stream",
          "name": "stdout",
          "text": [
            "++++\n",
            "10\n",
            "20\n",
            "30\n"
          ]
        }
      ]
    },
    {
      "cell_type": "markdown",
      "source": [
        "## 140\n",
        "- 다음 코드를 for문으로 작성하라."
      ],
      "metadata": {
        "id": "kBjNaS0ailTG"
      }
    },
    {
      "cell_type": "code",
      "source": [
        "print(\"-------\")\n",
        "print(\"-------\")\n",
        "print(\"-------\")\n",
        "print(\"-------\")"
      ],
      "metadata": {
        "id": "WPZ4BG0Zik_V"
      },
      "execution_count": null,
      "outputs": []
    },
    {
      "cell_type": "code",
      "source": [
        "for i in range(4):\n",
        "    print(\"-------\")"
      ],
      "metadata": {
        "colab": {
          "base_uri": "https://localhost:8080/"
        },
        "id": "vvPGX804iqLe",
        "outputId": "132773c7-3279-4c75-caf9-44f5fa2912ce"
      },
      "execution_count": 117,
      "outputs": [
        {
          "output_type": "stream",
          "name": "stdout",
          "text": [
            "-------\n",
            "-------\n",
            "-------\n",
            "-------\n"
          ]
        }
      ]
    },
    {
      "cell_type": "markdown",
      "source": [
        "## 141\n",
        "- 다음과 같이 판매가가 저장된 리스트가 있을 때 부가세가 포함된 가격을 for 문을 사용해서 화면에 출력하라. 단 부가세는 10원으로 가정한다."
      ],
      "metadata": {
        "id": "1JuR3AM5jScR"
      }
    },
    {
      "cell_type": "code",
      "source": [
        "리스트 = [100, 200, 300]\n",
        "\n",
        "for i in 리스트:\n",
        "    print(i+10)"
      ],
      "metadata": {
        "colab": {
          "base_uri": "https://localhost:8080/"
        },
        "id": "MpdsM7ixjU5r",
        "outputId": "336abaee-6d69-40f5-c2e1-55ff3bd8a768"
      },
      "execution_count": 118,
      "outputs": [
        {
          "output_type": "stream",
          "name": "stdout",
          "text": [
            "110\n",
            "210\n",
            "310\n"
          ]
        }
      ]
    },
    {
      "cell_type": "markdown",
      "source": [
        "## 142\n",
        "- for 문을 사용해서 리스트에 저장된 값을 다음과 같이 출력하라."
      ],
      "metadata": {
        "id": "wchoBLT0jlbr"
      }
    },
    {
      "cell_type": "code",
      "source": [
        "오늘의 메뉴: 김밥\n",
        "오늘의 메뉴: 라면\n",
        "오늘의 메뉴: 튀김"
      ],
      "metadata": {
        "id": "OmXN_wc3jvCP"
      },
      "execution_count": null,
      "outputs": []
    },
    {
      "cell_type": "code",
      "source": [
        "리스트 = [\"김밥\", \"라면\", \"튀김\"]\n",
        "\n",
        "for i in 리스트:\n",
        "    print(f'오늘의 메뉴: {i}')"
      ],
      "metadata": {
        "colab": {
          "base_uri": "https://localhost:8080/"
        },
        "id": "DFJuKoEljre6",
        "outputId": "6d629301-1cde-473e-acb5-b117f263c8df"
      },
      "execution_count": 119,
      "outputs": [
        {
          "output_type": "stream",
          "name": "stdout",
          "text": [
            "오늘의 메뉴: 김밥\n",
            "오늘의 메뉴: 라면\n",
            "오늘의 메뉴: 튀김\n"
          ]
        }
      ]
    },
    {
      "cell_type": "markdown",
      "source": [
        "## 143\n",
        "- 리스트에 주식 종목이름이 저장돼 있다. 저장된 문자열의 길이를 다음과 같이 출력하라."
      ],
      "metadata": {
        "id": "Zq7qPzWQj2eO"
      }
    },
    {
      "cell_type": "code",
      "source": [
        "6\n",
        "4\n",
        "4"
      ],
      "metadata": {
        "id": "6Wk0S3j7kuvb"
      },
      "execution_count": null,
      "outputs": []
    },
    {
      "cell_type": "code",
      "source": [
        "리스트 = [\"SK하이닉스\", \"삼성전자\", \"LG전자\"]\n",
        "\n",
        "for i in 리스트:\n",
        "    print(len(i))"
      ],
      "metadata": {
        "colab": {
          "base_uri": "https://localhost:8080/"
        },
        "id": "qqJzHJdZkumj",
        "outputId": "cb07bea8-63b0-49cd-b4d6-03b2aaa0f117"
      },
      "execution_count": 120,
      "outputs": [
        {
          "output_type": "stream",
          "name": "stdout",
          "text": [
            "6\n",
            "4\n",
            "4\n"
          ]
        }
      ]
    },
    {
      "cell_type": "markdown",
      "source": [
        "## 144\n",
        "- 리스트에는 동물이름이 문자열로 저장돼 있다. 동물 이름과 글자수를 다음과 같이 출력하라.\n",
        "\n"
      ],
      "metadata": {
        "id": "pacsrv5skuQL"
      }
    },
    {
      "cell_type": "code",
      "source": [
        "dog 3\n",
        "cat 3\n",
        "parrot 6"
      ],
      "metadata": {
        "id": "lh6a8RcjlPA4"
      },
      "execution_count": null,
      "outputs": []
    },
    {
      "cell_type": "code",
      "source": [
        "리스트 = ['dog', 'cat', 'parrot']\n",
        "\n",
        "for i in 리스트:\n",
        "    print(i, len(i))"
      ],
      "metadata": {
        "colab": {
          "base_uri": "https://localhost:8080/"
        },
        "id": "G1T_HER8lQcd",
        "outputId": "96c6f07d-6771-4d0b-f8aa-b77e223a8b25"
      },
      "execution_count": 121,
      "outputs": [
        {
          "output_type": "stream",
          "name": "stdout",
          "text": [
            "dog 3\n",
            "cat 3\n",
            "parrot 6\n"
          ]
        }
      ]
    },
    {
      "cell_type": "markdown",
      "source": [
        "## 145\n",
        "- 리스트에 동물 이름 저장돼 있다. for문을 사용해서 동물 이름의 첫 글자만 출력하라.\n",
        "\n"
      ],
      "metadata": {
        "id": "QOvPCzQ-lk0G"
      }
    },
    {
      "cell_type": "code",
      "source": [
        "d\n",
        "c\n",
        "p"
      ],
      "metadata": {
        "id": "609-gfPSloPQ"
      },
      "execution_count": null,
      "outputs": []
    },
    {
      "cell_type": "code",
      "source": [
        "리스트 = ['dog', 'cat', 'parrot']\n",
        "\n",
        "for i in 리스트:\n",
        "    print(i[0])"
      ],
      "metadata": {
        "colab": {
          "base_uri": "https://localhost:8080/"
        },
        "id": "LWKiY6ZWlojC",
        "outputId": "07a5f848-c9bd-4403-89fc-3a19ea74720d"
      },
      "execution_count": 122,
      "outputs": [
        {
          "output_type": "stream",
          "name": "stdout",
          "text": [
            "d\n",
            "c\n",
            "p\n"
          ]
        }
      ]
    },
    {
      "cell_type": "markdown",
      "source": [
        "## 146\n",
        "- 리스트에는 세 개의 숫자가 바인딩돼 있다. for문을 사용해서 다음과 같이 출력하라."
      ],
      "metadata": {
        "id": "r5XUznjulzzR"
      }
    },
    {
      "cell_type": "code",
      "source": [
        "3 x 1\n",
        "3 x 2\n",
        "3 x 3"
      ],
      "metadata": {
        "id": "OCn8yRj6lzah"
      },
      "execution_count": null,
      "outputs": []
    },
    {
      "cell_type": "code",
      "source": [
        "리스트 = [1, 2, 3]\n",
        "\n",
        "for i in 리스트:\n",
        "    print('3 x', i)"
      ],
      "metadata": {
        "colab": {
          "base_uri": "https://localhost:8080/"
        },
        "id": "Bm464BSKl4pa",
        "outputId": "88d6981f-02b3-41ec-8cba-6262e6da8080"
      },
      "execution_count": 124,
      "outputs": [
        {
          "output_type": "stream",
          "name": "stdout",
          "text": [
            "3 x 1\n",
            "3 x 2\n",
            "3 x 3\n"
          ]
        }
      ]
    },
    {
      "cell_type": "markdown",
      "source": [
        "## 148\n",
        "- 리스트에는 네 개의 문자열이 바인딩돼 있다. for문을 사용해서 다음과 같이 출력하라."
      ],
      "metadata": {
        "id": "idF3QR4PmGe_"
      }
    },
    {
      "cell_type": "code",
      "source": [
        "나\n",
        "다\n",
        "라"
      ],
      "metadata": {
        "id": "zmFsbJ2fmFbU"
      },
      "execution_count": null,
      "outputs": []
    },
    {
      "cell_type": "code",
      "source": [
        "리스트 = [\"가\", \"나\", \"다\", \"라\"]\n",
        "\n",
        "for i in 리스트[1:]:\n",
        "    print(i)"
      ],
      "metadata": {
        "colab": {
          "base_uri": "https://localhost:8080/"
        },
        "id": "3AIZD6EdmRQr",
        "outputId": "ad94962a-361b-4a52-b546-19d4aad91c5d"
      },
      "execution_count": 131,
      "outputs": [
        {
          "output_type": "stream",
          "name": "stdout",
          "text": [
            "나\n",
            "다\n",
            "라\n"
          ]
        }
      ]
    },
    {
      "cell_type": "markdown",
      "source": [
        "## 149\n",
        "- 리스트에는 네 개의 문자열이 바인딩돼 있다. for문을 사용해서 다음과 같이 출력하라."
      ],
      "metadata": {
        "id": "MBnG0Ut2murs"
      }
    },
    {
      "cell_type": "code",
      "source": [
        "가\n",
        "다"
      ],
      "metadata": {
        "id": "V1w4m1UnoADJ"
      },
      "execution_count": null,
      "outputs": []
    },
    {
      "cell_type": "code",
      "source": [
        "리스트 = [\"가\", \"나\", \"다\", \"라\"]\n",
        "\n",
        "for i in 리스트[::2]:\n",
        "    print(i)"
      ],
      "metadata": {
        "colab": {
          "base_uri": "https://localhost:8080/"
        },
        "id": "ocZ7GaiqmSVv",
        "outputId": "1c6271f1-14b0-4344-9c6f-a36448963a3c"
      },
      "execution_count": 132,
      "outputs": [
        {
          "output_type": "stream",
          "name": "stdout",
          "text": [
            "가\n",
            "다\n"
          ]
        }
      ]
    },
    {
      "cell_type": "markdown",
      "source": [
        "## 150\n",
        "- 리스트에는 네 개의 문자열이 바인딩돼 있다. for문을 사용해서 다음과 같이 출력하라."
      ],
      "metadata": {
        "id": "2-A3nk4ooWbd"
      }
    },
    {
      "cell_type": "code",
      "source": [
        "라\n",
        "다\n",
        "나\n",
        "가"
      ],
      "metadata": {
        "id": "phLxCbegoc6C"
      },
      "execution_count": null,
      "outputs": []
    },
    {
      "cell_type": "code",
      "source": [
        "리스트 = [\"가\", \"나\", \"다\", \"라\"]\n",
        "\n",
        "for i in 리스트[::-1]:\n",
        "    print(i)"
      ],
      "metadata": {
        "colab": {
          "base_uri": "https://localhost:8080/"
        },
        "id": "OmzoC-9Toc3k",
        "outputId": "7c5bfe10-8cbd-44ee-c019-354b602ef980"
      },
      "execution_count": 133,
      "outputs": [
        {
          "output_type": "stream",
          "name": "stdout",
          "text": [
            "라\n",
            "다\n",
            "나\n",
            "가\n"
          ]
        }
      ]
    },
    {
      "cell_type": "markdown",
      "source": [
        "## 151\n",
        "- 리스트에는 네 개의 정수가 저장돼 있다. for문을 사용해서 리스트의 음수를 출력하라."
      ],
      "metadata": {
        "id": "2LjWnG0NoZhc"
      }
    },
    {
      "cell_type": "code",
      "source": [
        "-20\n",
        "-3"
      ],
      "metadata": {
        "id": "yc1aTfJ5ollq"
      },
      "execution_count": null,
      "outputs": []
    },
    {
      "cell_type": "code",
      "source": [
        "리스트 = [3, -20, -3, 44]\n",
        "\n",
        "for i in 리스트:\n",
        "    if i < 0:\n",
        "        print(i)"
      ],
      "metadata": {
        "colab": {
          "base_uri": "https://localhost:8080/"
        },
        "id": "rvYHT8FiorCq",
        "outputId": "ac7fb346-8574-4e58-8e29-93dfe4e709ae"
      },
      "execution_count": 138,
      "outputs": [
        {
          "output_type": "stream",
          "name": "stdout",
          "text": [
            "-20\n",
            "-3\n"
          ]
        }
      ]
    },
    {
      "cell_type": "markdown",
      "source": [
        "## 152\n",
        "- for문을 사용해서 3의 배수만을 출력하라. "
      ],
      "metadata": {
        "id": "JXZy54OHpNT3"
      }
    },
    {
      "cell_type": "code",
      "source": [
        "리스트 = [3, 100, 23, 44]\n",
        "\n",
        "for i in 리스트:\n",
        "    if i % 3 == 0:\n",
        "        print(i)"
      ],
      "metadata": {
        "colab": {
          "base_uri": "https://localhost:8080/"
        },
        "id": "WSJmN3GkpSDB",
        "outputId": "eda45ba7-4bdb-4dbc-d9a7-af7ea0a38e2a"
      },
      "execution_count": 139,
      "outputs": [
        {
          "output_type": "stream",
          "name": "stdout",
          "text": [
            "3\n"
          ]
        }
      ]
    },
    {
      "cell_type": "markdown",
      "source": [
        "## 153\n",
        "- 리스트에서 20 보다 작은 3의 배수를 출력하라"
      ],
      "metadata": {
        "id": "cM-x3EBHpaZr"
      }
    },
    {
      "cell_type": "code",
      "source": [
        "리스트 = [13, 21, 12, 14, 30, 18]\n",
        "\n",
        "for i in 리스트:\n",
        "    if i % 3 == 0 and i < 20:\n",
        "        print(i)"
      ],
      "metadata": {
        "colab": {
          "base_uri": "https://localhost:8080/"
        },
        "id": "NooecFEJpdhf",
        "outputId": "fac536fb-d039-45d9-8508-7d1aa8cc96e8"
      },
      "execution_count": 140,
      "outputs": [
        {
          "output_type": "stream",
          "name": "stdout",
          "text": [
            "12\n",
            "18\n"
          ]
        }
      ]
    },
    {
      "cell_type": "markdown",
      "source": [
        "## 154\n",
        "- 리스트에서 세 글자 이상의 문자를 화면에 출력하라"
      ],
      "metadata": {
        "id": "4AQZwZQ6ppbC"
      }
    },
    {
      "cell_type": "code",
      "source": [
        "리스트 = [\"I\", \"study\", \"python\", \"language\", \"!\"]\n",
        "\n",
        "for i in 리스트:\n",
        "    if len(i) >= 3:\n",
        "        print(i)"
      ],
      "metadata": {
        "colab": {
          "base_uri": "https://localhost:8080/"
        },
        "id": "0rh0nUBRpsa9",
        "outputId": "f47ff4ed-6997-4c22-d719-5fab9fd128de"
      },
      "execution_count": 142,
      "outputs": [
        {
          "output_type": "stream",
          "name": "stdout",
          "text": [
            "study\n",
            "python\n",
            "language\n"
          ]
        }
      ]
    },
    {
      "cell_type": "markdown",
      "source": [
        "## 155\n",
        "- 리스트에서 대문자만 화면에 출력하라."
      ],
      "metadata": {
        "id": "Jscv4gklpvxi"
      }
    },
    {
      "cell_type": "code",
      "source": [
        "리스트 = [\"A\", \"b\", \"c\", \"D\"]\n",
        "\n",
        "for i in 리스트:\n",
        "    if i.isupper():\n",
        "        print(i)"
      ],
      "metadata": {
        "colab": {
          "base_uri": "https://localhost:8080/"
        },
        "id": "2LiqsJ_fpvHK",
        "outputId": "cbfa0ba6-0864-411f-88b3-b9687d58b680"
      },
      "execution_count": 151,
      "outputs": [
        {
          "output_type": "stream",
          "name": "stdout",
          "text": [
            "A\n",
            "D\n"
          ]
        }
      ]
    },
    {
      "cell_type": "markdown",
      "source": [
        "## 156\n",
        "- 리스트에서 소문자만 화면에 출력하라."
      ],
      "metadata": {
        "id": "vfFSmrHCrYjn"
      }
    },
    {
      "cell_type": "code",
      "source": [
        "리스트 = [\"A\", \"b\", \"c\", \"D\"]\n",
        "\n",
        "for i in 리스트:\n",
        "    if i.islower():\n",
        "        print(i)"
      ],
      "metadata": {
        "colab": {
          "base_uri": "https://localhost:8080/"
        },
        "id": "MFaH0O8mxr16",
        "outputId": "9c1891ae-65fd-4e1a-9085-b9a2fdf6f701"
      },
      "execution_count": 150,
      "outputs": [
        {
          "output_type": "stream",
          "name": "stdout",
          "text": [
            "b\n",
            "c\n"
          ]
        }
      ]
    },
    {
      "cell_type": "markdown",
      "source": [
        "## 157\n",
        "- 이름의 첫 글자를 대문자로 변경해서 출력하라."
      ],
      "metadata": {
        "id": "bHfxTelzx8Jp"
      }
    },
    {
      "cell_type": "code",
      "source": [
        "리스트 = ['dog', 'cat', 'parrot']\n",
        "\n",
        "# for i in 리스트:\n",
        "#   print(i.title())\n",
        "\n",
        "for 변수 in 리스트:\n",
        "    print(변수[0].upper() + 변수[1:])"
      ],
      "metadata": {
        "colab": {
          "base_uri": "https://localhost:8080/"
        },
        "id": "-8bX7JYdxuRX",
        "outputId": "85a07909-0d30-48b7-b739-f28fda515fb6"
      },
      "execution_count": 154,
      "outputs": [
        {
          "output_type": "stream",
          "name": "stdout",
          "text": [
            "Dog\n",
            "Cat\n",
            "Parrot\n"
          ]
        }
      ]
    },
    {
      "cell_type": "markdown",
      "source": [
        "## 158\n",
        "- 파일 이름이 저장된 리스트에서 확장자를 제거하고 파일 이름만 화면에 출력하라. (힌트: split() 메서드)"
      ],
      "metadata": {
        "id": "2d3IVYS-yrlE"
      }
    },
    {
      "cell_type": "code",
      "source": [
        "리스트 = ['hello.py', 'ex01.py', 'intro.hwp']\n",
        "\n",
        "for i in 리스트:\n",
        "    print(i.split('.')[0])"
      ],
      "metadata": {
        "colab": {
          "base_uri": "https://localhost:8080/"
        },
        "id": "fJ5krGfUyvEg",
        "outputId": "7d0ec5c7-1ae7-4857-98c4-d55aa76712fb"
      },
      "execution_count": 155,
      "outputs": [
        {
          "output_type": "stream",
          "name": "stdout",
          "text": [
            "hello\n",
            "ex01\n",
            "intro\n"
          ]
        }
      ]
    },
    {
      "cell_type": "markdown",
      "source": [
        "## 159\n",
        "- 파일 이름이 저장된 리스트에서 확장자가 .h인 파일 이름을 출력하라."
      ],
      "metadata": {
        "id": "BZjf2xpezR1r"
      }
    },
    {
      "cell_type": "code",
      "source": [
        "리스트 = ['intra.h', 'intra.c', 'define.h', 'run.py']\n",
        "\n",
        "for i in 리스트:\n",
        "    if i.split('.')[1] == 'h':\n",
        "        print(i)"
      ],
      "metadata": {
        "colab": {
          "base_uri": "https://localhost:8080/"
        },
        "id": "M_dcAjz7zUvz",
        "outputId": "42f3c01c-a60d-4f38-b2c0-9c7258ee6f5a"
      },
      "execution_count": 157,
      "outputs": [
        {
          "output_type": "stream",
          "name": "stdout",
          "text": [
            "intra.h\n",
            "define.h\n"
          ]
        }
      ]
    },
    {
      "cell_type": "markdown",
      "source": [
        "## 160\n",
        "- 파일 이름이 저장된 리스트에서 확장자가 .h나 .c인 파일을 화면에 출력하라."
      ],
      "metadata": {
        "id": "VMSMelkxzukq"
      }
    },
    {
      "cell_type": "code",
      "source": [
        "리스트 = ['intra.h', 'intra.c', 'define.h', 'run.py']\n",
        "\n",
        "for i in 리스트:\n",
        "    split = i.split('.')\n",
        "    if split[1] == 'h' or split[1] == 'c':\n",
        "        print(i)"
      ],
      "metadata": {
        "colab": {
          "base_uri": "https://localhost:8080/"
        },
        "id": "gqofBe8BzwwF",
        "outputId": "0e055290-13f2-40fe-95c3-17893a35e6ad"
      },
      "execution_count": 159,
      "outputs": [
        {
          "output_type": "stream",
          "name": "stdout",
          "text": [
            "intra.h\n",
            "intra.c\n",
            "define.h\n"
          ]
        }
      ]
    },
    {
      "cell_type": "markdown",
      "source": [
        "## 161\n",
        "- for문과 range 구문을 사용해서 0~99까지 한 라인에 하나씩 순차적으로 출력하는 프로그램을 작성하라."
      ],
      "metadata": {
        "id": "x4e7FS9Q0gj5"
      }
    },
    {
      "cell_type": "code",
      "source": [
        "for i in range(100):\n",
        "    print(i)"
      ],
      "metadata": {
        "id": "Z0hzO6S00eAu"
      },
      "execution_count": null,
      "outputs": []
    },
    {
      "cell_type": "markdown",
      "source": [
        "## 162\n",
        "- 월드컵은 4년에 한 번 개최된다. range()를 사용하여 2002~2050년까지 중 월드컵이 개최되는 연도를 출력하라."
      ],
      "metadata": {
        "id": "RZ74WLUD0_Xz"
      }
    },
    {
      "cell_type": "code",
      "source": [
        "for i in range(2002, 2051, 4):\n",
        "    print(i)"
      ],
      "metadata": {
        "colab": {
          "base_uri": "https://localhost:8080/"
        },
        "id": "mupLbIUw0flS",
        "outputId": "84a06902-e01d-42d1-e6a6-1dd5f7fb5eed"
      },
      "execution_count": 166,
      "outputs": [
        {
          "output_type": "stream",
          "name": "stdout",
          "text": [
            "2002\n",
            "2006\n",
            "2010\n",
            "2014\n",
            "2018\n",
            "2022\n",
            "2026\n",
            "2030\n",
            "2034\n",
            "2038\n",
            "2042\n",
            "2046\n",
            "2050\n"
          ]
        }
      ]
    },
    {
      "cell_type": "markdown",
      "source": [
        "## 163\n",
        "- 1부터 30까지의 숫자 중 3의 배수를 출력하라."
      ],
      "metadata": {
        "id": "-6COQhuH1M5t"
      }
    },
    {
      "cell_type": "code",
      "source": [
        "for i in range(3, 31, 3):\n",
        "    print(i)"
      ],
      "metadata": {
        "colab": {
          "base_uri": "https://localhost:8080/"
        },
        "id": "OPItGSwY1P8D",
        "outputId": "bef016e9-7c15-48b6-9cde-c3f007af4e76"
      },
      "execution_count": 168,
      "outputs": [
        {
          "output_type": "stream",
          "name": "stdout",
          "text": [
            "3\n",
            "6\n",
            "9\n",
            "12\n",
            "15\n",
            "18\n",
            "21\n",
            "24\n",
            "27\n",
            "30\n"
          ]
        }
      ]
    },
    {
      "cell_type": "markdown",
      "source": [
        "## 164\n",
        "- 99부터 0까지 1씩 감소하는 숫자들을, 한 라인에 하나씩 출력하라."
      ],
      "metadata": {
        "id": "Ba69uohQ1dj6"
      }
    },
    {
      "cell_type": "code",
      "source": [
        "for i in range(99, -1, -1):\n",
        "    print(i)"
      ],
      "metadata": {
        "id": "sZz6Wyuj1gVS"
      },
      "execution_count": null,
      "outputs": []
    },
    {
      "cell_type": "markdown",
      "source": [
        "## 165\n",
        "- for문을 사용해서 아래와 같이 출력하라."
      ],
      "metadata": {
        "id": "F5M-bFGP12ws"
      }
    },
    {
      "cell_type": "code",
      "source": [
        "0.0\n",
        "0.1\n",
        "0.2\n",
        "0.3\n",
        "0.4\n",
        "0.5\n",
        "...\n",
        "0.9"
      ],
      "metadata": {
        "id": "VD8Capkr13xM"
      },
      "execution_count": null,
      "outputs": []
    },
    {
      "cell_type": "code",
      "source": [
        "# for i in range(10):\n",
        "#     print(f'0.{i}')\n",
        "\n",
        "for i in range(10):\n",
        "    print(i / 10)"
      ],
      "metadata": {
        "colab": {
          "base_uri": "https://localhost:8080/"
        },
        "id": "rQH01_uS17UT",
        "outputId": "613ea020-a532-4713-b2b9-8795125890c5"
      },
      "execution_count": 174,
      "outputs": [
        {
          "output_type": "stream",
          "name": "stdout",
          "text": [
            "0.0\n",
            "0.1\n",
            "0.2\n",
            "0.3\n",
            "0.4\n",
            "0.5\n",
            "0.6\n",
            "0.7\n",
            "0.8\n",
            "0.9\n"
          ]
        }
      ]
    },
    {
      "cell_type": "markdown",
      "source": [
        "## 166\n",
        "- 구구단 3단을 출력하라."
      ],
      "metadata": {
        "id": "3ci8npFY2cXT"
      }
    },
    {
      "cell_type": "code",
      "source": [
        "for i in range(1, 10) :\n",
        "    print (3, \"x\", i, \" = \", 3 * i)"
      ],
      "metadata": {
        "colab": {
          "base_uri": "https://localhost:8080/"
        },
        "id": "4KdOr9Dz2BH1",
        "outputId": "9ae00cef-8480-451e-867d-35cb804b95a7"
      },
      "execution_count": 183,
      "outputs": [
        {
          "output_type": "stream",
          "name": "stdout",
          "text": [
            "3 x 1  =  3\n",
            "3 x 2  =  6\n",
            "3 x 3  =  9\n",
            "3 x 4  =  12\n",
            "3 x 5  =  15\n",
            "3 x 6  =  18\n",
            "3 x 7  =  21\n",
            "3 x 8  =  24\n",
            "3 x 9  =  27\n"
          ]
        }
      ]
    },
    {
      "cell_type": "markdown",
      "source": [
        "## 167\n",
        "- 구구단 3단을 출력하라. 단 홀수 번째만 출력한다."
      ],
      "metadata": {
        "id": "eI93BTJ14Pim"
      }
    },
    {
      "cell_type": "code",
      "source": [
        "for i in range(1, 10, 2):\n",
        "    print (3, \"x\", i, \" = \", 3 * i)"
      ],
      "metadata": {
        "colab": {
          "base_uri": "https://localhost:8080/"
        },
        "id": "Ug_v-tt64nQ0",
        "outputId": "60410405-c482-49cb-d0f2-cd901b32287e"
      },
      "execution_count": 184,
      "outputs": [
        {
          "output_type": "stream",
          "name": "stdout",
          "text": [
            "3 x 1  =  3\n",
            "3 x 3  =  9\n",
            "3 x 5  =  15\n",
            "3 x 7  =  21\n",
            "3 x 9  =  27\n"
          ]
        }
      ]
    },
    {
      "cell_type": "markdown",
      "source": [
        "## 168\n",
        "- 1~10까지의 숫자에 대해 모두 더한 값을 출력하는 프로그램을 for 문을 사용하여 작성하라."
      ],
      "metadata": {
        "id": "WtRoIQYb4nAI"
      }
    },
    {
      "cell_type": "code",
      "source": [
        "sum = 0\n",
        "\n",
        "for i in range(1, 11):\n",
        "    sum += i\n",
        "print(sum)"
      ],
      "metadata": {
        "colab": {
          "base_uri": "https://localhost:8080/"
        },
        "id": "zEU5tlnf40CW",
        "outputId": "77b8b8b5-606a-42d3-baec-65a936b130e0"
      },
      "execution_count": 188,
      "outputs": [
        {
          "output_type": "stream",
          "name": "stdout",
          "text": [
            "55\n"
          ]
        }
      ]
    },
    {
      "cell_type": "markdown",
      "source": [
        "## 169\n",
        "- 1~10까지의 숫자 중 모든 홀수의 합을 출력하는 프로그램을 for 문을 사용하여 작성하라."
      ],
      "metadata": {
        "id": "NxWysB6r4hB9"
      }
    },
    {
      "cell_type": "code",
      "source": [
        "odd_sum = 0\n",
        "\n",
        "for i in range(1, 11, 2):\n",
        "    odd_sum += i\n",
        "print(odd_sum)"
      ],
      "metadata": {
        "colab": {
          "base_uri": "https://localhost:8080/"
        },
        "id": "4-haxPbp51cM",
        "outputId": "b666cdfd-0b48-4469-a878-ee6a31279d5a"
      },
      "execution_count": 189,
      "outputs": [
        {
          "output_type": "stream",
          "name": "stdout",
          "text": [
            "25\n"
          ]
        }
      ]
    },
    {
      "cell_type": "markdown",
      "source": [
        "## 170\n",
        "- 1~10까지의 숫자를 모두 곱한 값을 출력하는 프로그램을 for 문을 사용하여 작성하라."
      ],
      "metadata": {
        "id": "sPZYBGLu6FAW"
      }
    },
    {
      "cell_type": "code",
      "source": [
        "multi = 1\n",
        "\n",
        "for i in range(1, 11):\n",
        "    multi *= i\n",
        "print(multi)"
      ],
      "metadata": {
        "colab": {
          "base_uri": "https://localhost:8080/"
        },
        "id": "TquTl7sa6I73",
        "outputId": "fc8e8dde-3efa-4911-c2d8-70883e67890a"
      },
      "execution_count": 192,
      "outputs": [
        {
          "output_type": "stream",
          "name": "stdout",
          "text": [
            "3628800\n"
          ]
        }
      ]
    }
  ]
}